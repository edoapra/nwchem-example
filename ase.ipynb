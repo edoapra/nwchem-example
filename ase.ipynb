{
 "cells": [
  {
   "cell_type": "code",
   "execution_count": 1,
   "id": "d2e7085e-2adb-4a07-8e95-7983cb2edf4b",
   "metadata": {},
   "outputs": [
    {
     "name": "stdout",
     "output_type": "stream",
     "text": [
      "websocket-client          1.8.0          /home/edo/nwchem/jupyternotebook/nwchem-example/venv313/lib/python3.13/site-packages pip\n",
      "widgetsnbextension        4.0.13         /home/edo/nwchem/jupyternotebook/nwchem-example/venv313/lib/python3.13/site-packages pip\n",
      "Requirement already satisfied: pip in ./venv313/lib/python3.13/site-packages (25.0.1)\n",
      "Requirement already satisfied: python-dateutil>=2.7 in ./venv313/lib/python3.13/site-packages (from matplotlib>=3.3.4->ase) (2.9.0.post0)\n",
      "Requirement already satisfied: six>=1.5 in ./venv313/lib/python3.13/site-packages (from python-dateutil>=2.7->matplotlib>=3.3.4->ase) (1.17.0)\n"
     ]
    }
   ],
   "source": [
    "import sys\n",
    "!{sys.executable} -m pip list -v |tail -2\n",
    "!{sys.executable} -m pip  install --upgrade pip\n",
    "!{sys.executable} -m pip install ase | tail -2\n"
   ]
  },
  {
   "cell_type": "code",
   "execution_count": 2,
   "id": "novel-bulgarian",
   "metadata": {},
   "outputs": [],
   "source": [
    "from ase.build import molecule"
   ]
  },
  {
   "cell_type": "code",
   "execution_count": 3,
   "id": "checked-victor",
   "metadata": {},
   "outputs": [
    {
     "name": "stdout",
     "output_type": "stream",
     "text": [
      " using ASE_NWCHEM_COMMAND docker run --shm-size 256m  --rm  --entrypoint=mpirun -v $(pwd):/data -v $(pwd)/nwchem ghcr.io/nwchemgit/nwchemcross-dev -np 3 nwchem /data/PREFIX.nwi > PREFIX.nwo\n"
     ]
    }
   ],
   "source": [
    "from ase.calculators.nwchem import NWChem\n",
    "import os,os.path\n",
    "if 'NWCHEM_NP' in os.environ:\n",
    "    nwchem_np =  os.environ['NWCHEM_NP']\n",
    "else:\n",
    "    nwchem_np=\"3\"\n",
    "if 'ASE_NWCHEM_COMMAND' in os.environ:\n",
    "    print( ' using ASE_NWCHEM_COMMAND from env', os.getenv('ASE_NWCHEM_COMMAND'))\n",
    "else:\n",
    "    os.environ['ASE_NWCHEM_COMMAND'] = \"docker run --shm-size 256m  --rm  --entrypoint=mpirun -v $(pwd):/data -v $(pwd)/nwchem ghcr.io/nwchemgit/nwchemcross-dev -np \"+nwchem_np+\" nwchem /data/PREFIX.nwi > PREFIX.nwo\"\n",
    "    print( ' using ASE_NWCHEM_COMMAND', os.getenv('ASE_NWCHEM_COMMAND'))"
   ]
  },
  {
   "cell_type": "code",
   "execution_count": 4,
   "id": "generous-margin",
   "metadata": {},
   "outputs": [],
   "source": [
    "atoms = molecule('H2O')"
   ]
  },
  {
   "cell_type": "code",
   "execution_count": 5,
   "id": "fluid-implementation",
   "metadata": {},
   "outputs": [],
   "source": [
    "atoms.calc = NWChem(\n",
    "    label='calc/nwchem',\n",
    "    dft=dict(\n",
    "        maxiter=2000,\n",
    "        xc='B3LYP'\n",
    "    ),\n",
    "    basis='6-31+G*'\n",
    ")"
   ]
  },
  {
   "cell_type": "code",
   "execution_count": 6,
   "id": "lasting-species",
   "metadata": {},
   "outputs": [
    {
     "data": {
      "text/plain": [
       "-2079.562576367802"
      ]
     },
     "execution_count": 6,
     "metadata": {},
     "output_type": "execute_result"
    }
   ],
   "source": [
    "atoms.get_potential_energy()"
   ]
  },
  {
   "cell_type": "code",
   "execution_count": 7,
   "id": "asian-herald",
   "metadata": {},
   "outputs": [
    {
     "data": {
      "text/plain": [
       "array([[ 0.        ,  0.        , -0.12778384],\n",
       "       [-0.        ,  0.12063617,  0.06386621],\n",
       "       [-0.        , -0.12063617,  0.06386621]])"
      ]
     },
     "execution_count": 7,
     "metadata": {},
     "output_type": "execute_result"
    }
   ],
   "source": [
    "atoms.get_forces()"
   ]
  },
  {
   "cell_type": "code",
   "execution_count": null,
   "id": "1a9fc96d-8507-40eb-a306-39c00b28aee2",
   "metadata": {},
   "outputs": [],
   "source": []
  }
 ],
 "metadata": {
  "kernelspec": {
   "display_name": "Python 3 (ipykernel)",
   "language": "python",
   "name": "python3"
  },
  "language_info": {
   "codemirror_mode": {
    "name": "ipython",
    "version": 3
   },
   "file_extension": ".py",
   "mimetype": "text/x-python",
   "name": "python",
   "nbconvert_exporter": "python",
   "pygments_lexer": "ipython3",
   "version": "3.13.2"
  }
 },
 "nbformat": 4,
 "nbformat_minor": 5
}
