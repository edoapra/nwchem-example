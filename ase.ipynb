{
 "cells": [
  {
   "cell_type": "code",
   "execution_count": 1,
   "id": "d2e7085e-2adb-4a07-8e95-7983cb2edf4b",
   "metadata": {},
   "outputs": [
    {
     "name": "stdout",
     "output_type": "stream",
     "text": [
      "websocket-client          1.8.0          /home/edo/nwchem/jupyternotebook/nwchem-example/venv312/lib/python3.12/site-packages pip\n",
      "widgetsnbextension        4.0.13         /home/edo/nwchem/jupyternotebook/nwchem-example/venv312/lib/python3.12/site-packages pip\n",
      "Requirement already satisfied: pip in ./venv312/lib/python3.12/site-packages (25.0.1)\n",
      "Requirement already satisfied: asttokens>=2.1.0 in ./venv312/lib/python3.12/site-packages (from stack_data->ipython>=6.1.0->ipywidgets==8.1.1) (3.0.0)\n",
      "Requirement already satisfied: pure-eval in ./venv312/lib/python3.12/site-packages (from stack_data->ipython>=6.1.0->ipywidgets==8.1.1) (0.2.3)\n",
      "Requirement already satisfied: python-dateutil>=2.7 in ./venv312/lib/python3.12/site-packages (from matplotlib>=3.3.4->ase) (2.9.0.post0)\n",
      "Requirement already satisfied: six>=1.5 in ./venv312/lib/python3.12/site-packages (from python-dateutil>=2.7->matplotlib>=3.3.4->ase) (1.17.0)\n",
      "Requirement already satisfied: asttokens>=2.1.0 in ./venv312/lib/python3.12/site-packages (from stack_data->ipython>=6.1.0->ipywidgets>=7->nglview==3.0.8) (3.0.0)\n",
      "Requirement already satisfied: pure-eval in ./venv312/lib/python3.12/site-packages (from stack_data->ipython>=6.1.0->ipywidgets>=7->nglview==3.0.8) (0.2.3)\n",
      "ipywidgets                8.1.1          /home/edo/nwchem/jupyternotebook/nwchem-example/venv312/lib/python3.12/site-packages pip\n",
      "notebook                  7.0.6          /home/edo/nwchem/jupyternotebook/nwchem-example/venv312/lib/python3.12/site-packages pip\n",
      "jupyterlab                4.0.10         /home/edo/nwchem/jupyternotebook/nwchem-example/venv312/lib/python3.12/site-packages pip\n"
     ]
    }
   ],
   "source": [
    "import sys\n",
    "!{sys.executable} -m pip list -v |tail -2\n",
    "!{sys.executable} -m pip  install --upgrade pip\n",
    "!{sys.executable} -m pip install ipywidgets==8.1.1 | tail -2\n",
    "!{sys.executable} -m pip install ase | tail -2\n",
    "!{sys.executable} -m pip install nglview==3.0.8 | tail -2\n",
    "!{sys.executable} -m pip list -v | grep ipyw\n",
    "!{sys.executable} -m pip list -v | grep \"notebook \"  \n",
    "!{sys.executable} -m pip list -v | grep \"lab \""
   ]
  },
  {
   "cell_type": "code",
   "execution_count": 2,
   "id": "novel-bulgarian",
   "metadata": {},
   "outputs": [],
   "source": [
    "from ase.build import molecule\n",
    "from ase.visualize import view"
   ]
  },
  {
   "cell_type": "code",
   "execution_count": 3,
   "id": "checked-victor",
   "metadata": {},
   "outputs": [
    {
     "name": "stdout",
     "output_type": "stream",
     "text": [
      " using ASE_NWCHEM_COMMAND docker run --shm-size 256m  --rm  --entrypoint=mpirun -v $(pwd):/data -v $(pwd)/nwchem ghcr.io/nwchemgit/nwchemcross-dev -np 3 nwchem /data/PREFIX.nwi > PREFIX.nwo\n"
     ]
    }
   ],
   "source": [
    "from ase.calculators.nwchem import NWChem\n",
    "import os,os.path\n",
    "if 'NWCHEM_NP' in os.environ:\n",
    "    nwchem_np =  os.environ['NWCHEM_NP']\n",
    "else:\n",
    "    nwchem_np=\"3\"\n",
    "if 'ASE_NWCHEM_COMMAND' in os.environ:\n",
    "    print( ' using ASE_NWCHEM_COMMAND from env', os.getenv('ASE_NWCHEM_COMMAND'))\n",
    "else:\n",
    "    os.environ['ASE_NWCHEM_COMMAND'] = \"docker run --shm-size 256m  --rm  --entrypoint=mpirun -v $(pwd):/data -v $(pwd)/nwchem ghcr.io/nwchemgit/nwchemcross-dev -np \"+nwchem_np+\" nwchem /data/PREFIX.nwi > PREFIX.nwo\"\n",
    "    print( ' using ASE_NWCHEM_COMMAND', os.getenv('ASE_NWCHEM_COMMAND'))"
   ]
  },
  {
   "cell_type": "code",
   "execution_count": 4,
   "id": "generous-margin",
   "metadata": {},
   "outputs": [
    {
     "name": "stderr",
     "output_type": "stream",
     "text": [
      "/home/edo/nwchem/jupyternotebook/nwchem-example/venv312/lib/python3.12/site-packages/ase/data/pubchem.py:80: UserWarning: The structure \"biphenyl\" has more than one conformer in PubChem. By default, the first conformer is returned, please ensure you are using the structure you intend to or use the `ase.data.pubchem.pubchem_conformer_search` function\n",
      "  warnings.warn(\n"
     ]
    },
    {
     "data": {
      "application/vnd.jupyter.widget-view+json": {
       "model_id": "60bc153566e54b36a24eba7dd5baad5d",
       "version_major": 2,
       "version_minor": 0
      },
      "text/plain": []
     },
     "metadata": {},
     "output_type": "display_data"
    },
    {
     "data": {
      "application/vnd.jupyter.widget-view+json": {
       "model_id": "071883724b804d20b7a29cde9800f9d0",
       "version_major": 2,
       "version_minor": 0
      },
      "text/plain": [
       "interactive(children=(Dropdown(description='representation', options=('ball+stick', 'spacefill', 'line', 'poin…"
      ]
     },
     "metadata": {},
     "output_type": "display_data"
    },
    {
     "data": {
      "application/vnd.jupyter.widget-view+json": {
       "model_id": "8dbde64d081e465889a0df8e03c7cc79",
       "version_major": 2,
       "version_minor": 0
      },
      "text/plain": [
       "NGLWidget()"
      ]
     },
     "metadata": {},
     "output_type": "display_data"
    }
   ],
   "source": [
    "from ase.data.pubchem import pubchem_atoms_search, pubchem_atoms_conformer_search\n",
    "#mymolecule = molecule('H2O')\n",
    "mymolecule=pubchem_atoms_search(name='biphenyl')\n",
    "import nglview as nv\n",
    "from ipywidgets import interact,fixed\n",
    "view=nv.show_ase(mymolecule, default_representation=False)\n",
    "representations = [ \"ball+stick\", \"spacefill\", \"line\", \"point\", \"ribbon\"]\n",
    "def change_representation(view, representation):\n",
    "    view.clear()\n",
    "    view.add_representation(representation)\n",
    "interact(change_representation, view=fixed(view), representation=representations)\n",
    "view.add_ball_and_stick(aspectRatio=2.4)\n",
    "view.center()\n",
    "view.stage.set_parameters(**{\n",
    "    # \"percentages, \"dist\" is distance to camera in Angstrom\n",
    "    \"clipNear\": 0, \"clipFar\": 100, \"clipDist\": 2,\n",
    "    # percentages, start of fog and where on full effect\n",
    "    \"fogNear\": 20, \"fogFar\": 100,\n",
    "    # background color\n",
    "    \"backgroundColor\": \"black\",\n",
    "})\n",
    "view.control.zoom(0.7)\n",
    "view\n"
   ]
  },
  {
   "cell_type": "code",
   "execution_count": 5,
   "id": "fluid-implementation",
   "metadata": {},
   "outputs": [],
   "source": [
    "mymolecule.calc = NWChem(\n",
    "    label='calc/nwchem',\n",
    "    dft=dict(\n",
    "        \n",
    "        xc='xpbe96 cpbe96'\n",
    "    ),\n",
    "    basis='def2-svp',basispar='spherical'\n",
    ")"
   ]
  },
  {
   "cell_type": "code",
   "execution_count": 6,
   "id": "lasting-species",
   "metadata": {},
   "outputs": [
    {
     "data": {
      "text/plain": [
       "-12581.558474584303"
      ]
     },
     "execution_count": 6,
     "metadata": {},
     "output_type": "execute_result"
    }
   ],
   "source": [
    "mymolecule.get_potential_energy()"
   ]
  },
  {
   "cell_type": "code",
   "execution_count": 7,
   "id": "asian-herald",
   "metadata": {},
   "outputs": [
    {
     "data": {
      "text/plain": [
       "array([[ 5.50267540e-01,  2.26257095e-03, -4.26803157e-03],\n",
       "       [-5.48981988e-01, -7.91899833e-03,  8.22753073e-04],\n",
       "       [ 5.26253435e-01,  1.14465521e-01,  1.48095553e-01],\n",
       "       [-5.21522604e-01, -1.41256418e-01,  1.09220471e-01],\n",
       "       [ 5.15146268e-01, -1.10403178e-01, -1.42027749e-01],\n",
       "       [-5.22242513e-01,  1.46758579e-01, -1.12357217e-01],\n",
       "       [-8.22753073e-04, -7.02425436e-02, -9.14798574e-02],\n",
       "       [-6.06780392e-03,  8.49492548e-02, -6.44318501e-02],\n",
       "       [ 2.67394749e-03,  5.87240006e-02,  7.82129640e-02],\n",
       "       [-1.54266201e-03, -8.66461830e-02,  6.60773562e-02],\n",
       "       [ 3.39899863e-02,  6.53060252e-03,  7.40477766e-03],\n",
       "       [-2.46311701e-02, -1.13128548e-03,  9.25597208e-04],\n",
       "       [-3.58566074e-01,  2.00031841e-01,  2.60915568e-01],\n",
       "       [ 3.58926028e-01, -2.62355386e-01,  2.01111704e-01],\n",
       "       [-3.58206119e-01, -2.00597484e-01, -2.62201120e-01],\n",
       "       [ 3.58360386e-01,  2.61224101e-01, -2.00494640e-01],\n",
       "       [ 2.61481211e-01,  2.82821369e-01,  3.69261864e-01],\n",
       "       [-2.59115796e-01, -3.65405209e-01,  2.80198844e-01],\n",
       "       [ 2.57521712e-01, -2.78759026e-01, -3.63451170e-01],\n",
       "       [-2.59578595e-01,  3.67102137e-01, -2.81484395e-01],\n",
       "       [ 5.29544447e-01, -5.14220671e-05, -5.14220671e-05],\n",
       "       [-5.32938303e-01, -1.54266201e-04,  5.14220671e-05]])"
      ]
     },
     "execution_count": 7,
     "metadata": {},
     "output_type": "execute_result"
    }
   ],
   "source": [
    "mymolecule.get_forces()"
   ]
  },
  {
   "cell_type": "code",
   "execution_count": null,
   "id": "a92a8f1b-dd34-45b4-ba5e-1603757232cd",
   "metadata": {},
   "outputs": [],
   "source": []
  },
  {
   "cell_type": "code",
   "execution_count": null,
   "id": "52cd447e-8f9a-46ad-b381-14ebabfcb8a9",
   "metadata": {},
   "outputs": [],
   "source": []
  },
  {
   "cell_type": "code",
   "execution_count": null,
   "id": "0191d7ee-5037-43a8-838e-3eea6398b744",
   "metadata": {},
   "outputs": [],
   "source": []
  },
  {
   "cell_type": "code",
   "execution_count": null,
   "id": "97b14d02-e341-4951-94e7-50296271ed2b",
   "metadata": {},
   "outputs": [],
   "source": []
  },
  {
   "cell_type": "code",
   "execution_count": null,
   "id": "7e89c8de-c7b7-4650-8d5c-35d4d5875933",
   "metadata": {},
   "outputs": [],
   "source": []
  }
 ],
 "metadata": {
  "kernelspec": {
   "display_name": "Python 3 (ipykernel)",
   "language": "python",
   "name": "python3"
  },
  "language_info": {
   "codemirror_mode": {
    "name": "ipython",
    "version": 3
   },
   "file_extension": ".py",
   "mimetype": "text/x-python",
   "name": "python",
   "nbconvert_exporter": "python",
   "pygments_lexer": "ipython3",
   "version": "3.12.9"
  }
 },
 "nbformat": 4,
 "nbformat_minor": 5
}
