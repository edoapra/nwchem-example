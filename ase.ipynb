{
 "cells": [
  {
   "cell_type": "code",
   "execution_count": 18,
   "id": "d2e7085e-2adb-4a07-8e95-7983cb2edf4b",
   "metadata": {},
   "outputs": [
    {
     "name": "stdout",
     "output_type": "stream",
     "text": [
      "websocket-client          1.8.0          /home/edo/nwchem/jupyternotebook/nwchem-example/venv312/lib/python3.12/site-packages pip\n",
      "widgetsnbextension        4.0.13         /home/edo/nwchem/jupyternotebook/nwchem-example/venv312/lib/python3.12/site-packages pip\n",
      "Requirement already satisfied: pip in ./venv312/lib/python3.12/site-packages (25.0.1)\n",
      "Requirement already satisfied: asttokens>=2.1.0 in ./venv312/lib/python3.12/site-packages (from stack_data->ipython>=6.1.0->ipywidgets==8.1.1) (3.0.0)\n",
      "Requirement already satisfied: pure-eval in ./venv312/lib/python3.12/site-packages (from stack_data->ipython>=6.1.0->ipywidgets==8.1.1) (0.2.3)\n",
      "Requirement already satisfied: python-dateutil>=2.7 in ./venv312/lib/python3.12/site-packages (from matplotlib>=3.3.4->ase) (2.9.0.post0)\n",
      "Requirement already satisfied: six>=1.5 in ./venv312/lib/python3.12/site-packages (from python-dateutil>=2.7->matplotlib>=3.3.4->ase) (1.17.0)\n",
      "Requirement already satisfied: asttokens>=2.1.0 in ./venv312/lib/python3.12/site-packages (from stack_data->ipython>=6.1.0->ipywidgets>=7->nglview==3.0.8) (3.0.0)\n",
      "Requirement already satisfied: pure-eval in ./venv312/lib/python3.12/site-packages (from stack_data->ipython>=6.1.0->ipywidgets>=7->nglview==3.0.8) (0.2.3)\n",
      "ipywidgets                8.1.1          /home/edo/nwchem/jupyternotebook/nwchem-example/venv312/lib/python3.12/site-packages pip\n",
      "notebook                  7.0.6          /home/edo/nwchem/jupyternotebook/nwchem-example/venv312/lib/python3.12/site-packages pip\n",
      "jupyterlab                4.0.10         /home/edo/nwchem/jupyternotebook/nwchem-example/venv312/lib/python3.12/site-packages pip\n"
     ]
    }
   ],
   "source": [
    "import sys\n",
    "!{sys.executable} -m pip list -v |tail -2\n",
    "!{sys.executable} -m pip  install --upgrade pip\n",
    "!{sys.executable} -m pip install ipywidgets==8.1.1 | tail -2\n",
    "!{sys.executable} -m pip install ase | tail -2\n",
    "!{sys.executable} -m pip install nglview==3.0.8 | tail -2\n",
    "!{sys.executable} -m pip list -v | grep ipyw\n",
    "!{sys.executable} -m pip list -v | grep \"notebook \"  \n",
    "!{sys.executable} -m pip list -v | grep \"lab \""
   ]
  },
  {
   "cell_type": "code",
   "execution_count": 19,
   "id": "novel-bulgarian",
   "metadata": {},
   "outputs": [],
   "source": [
    "from ase.build import molecule\n",
    "from ase.visualize import view"
   ]
  },
  {
   "cell_type": "code",
   "execution_count": 20,
   "id": "checked-victor",
   "metadata": {},
   "outputs": [
    {
     "name": "stdout",
     "output_type": "stream",
     "text": [
      " using ASE_NWCHEM_COMMAND from env docker run --shm-size 256m  --rm  --entrypoint=mpirun -v $(pwd):/data -v $(pwd)/nwchem ghcr.io/nwchemgit/nwchemcross-dev -np 3 nwchem /data/PREFIX.nwi > PREFIX.nwo\n"
     ]
    }
   ],
   "source": [
    "from ase.calculators.nwchem import NWChem\n",
    "import os,os.path\n",
    "if 'NWCHEM_NP' in os.environ:\n",
    "    nwchem_np =  os.environ['NWCHEM_NP']\n",
    "else:\n",
    "    nwchem_np=\"3\"\n",
    "if 'ASE_NWCHEM_COMMAND' in os.environ:\n",
    "    print( ' using ASE_NWCHEM_COMMAND from env', os.getenv('ASE_NWCHEM_COMMAND'))\n",
    "else:\n",
    "    os.environ['ASE_NWCHEM_COMMAND'] = \"docker run --shm-size 256m  --rm  --entrypoint=mpirun -v $(pwd):/data -v $(pwd)/nwchem ghcr.io/nwchemgit/nwchemcross-dev -np \"+nwchem_np+\" nwchem /data/PREFIX.nwi > PREFIX.nwo\"\n",
    "    print( ' using ASE_NWCHEM_COMMAND', os.getenv('ASE_NWCHEM_COMMAND'))"
   ]
  },
  {
   "cell_type": "code",
   "execution_count": 55,
   "id": "generous-margin",
   "metadata": {},
   "outputs": [
    {
     "data": {
      "application/vnd.jupyter.widget-view+json": {
       "model_id": "93c1fb519a9b4f03aa275540d12e09db",
       "version_major": 2,
       "version_minor": 0
      },
      "text/plain": [
       "interactive(children=(Dropdown(description='representation', options=('ball+stick', 'spacefill', 'line', 'poin…"
      ]
     },
     "metadata": {},
     "output_type": "display_data"
    },
    {
     "data": {
      "application/vnd.jupyter.widget-view+json": {
       "model_id": "8626e8487ca84822ba95b3c9b4a9a1c3",
       "version_major": 2,
       "version_minor": 0
      },
      "text/plain": [
       "NGLWidget()"
      ]
     },
     "metadata": {},
     "output_type": "display_data"
    }
   ],
   "source": [
    "mymolecule = molecule('H2O')\n",
    "import nglview as nv\n",
    "from ipywidgets import interact,fixed\n",
    "view=nv.show_ase(mymolecule, default_representation=False)\n",
    "representations = [ \"ball+stick\", \"spacefill\", \"line\", \"point\", \"ribbon\"]\n",
    "def change_representation(view, representation):\n",
    "    view.clear()\n",
    "    view.add_representation(representation)\n",
    "interact(change_representation, view=fixed(view), representation=representations)\n",
    "view.center()\n",
    "view._remote_call(\"SetSize\", target=\"Widget\", args=['640px', '480px'] )\n",
    "view.add_ball_and_stick(sphereDetail=3)\n",
    "view.camera='orthographic'\n",
    "view.control.zoom(1.9)\n",
    "view\n",
    "\n"
   ]
  },
  {
   "cell_type": "code",
   "execution_count": 5,
   "id": "fluid-implementation",
   "metadata": {},
   "outputs": [],
   "source": [
    "mymolecule.calc = NWChem(\n",
    "    label='calc/nwchem',\n",
    "    dft=dict(\n",
    "        maxiter=2000,\n",
    "        xc='B3LYP'\n",
    "    ),\n",
    "    basis='6-31+G*'\n",
    ")"
   ]
  },
  {
   "cell_type": "code",
   "execution_count": 6,
   "id": "lasting-species",
   "metadata": {},
   "outputs": [
    {
     "data": {
      "text/plain": [
       "-2079.56257636802"
      ]
     },
     "execution_count": 6,
     "metadata": {},
     "output_type": "execute_result"
    }
   ],
   "source": [
    "mymolecule.get_potential_energy()"
   ]
  },
  {
   "cell_type": "code",
   "execution_count": 7,
   "id": "asian-herald",
   "metadata": {},
   "outputs": [
    {
     "data": {
      "text/plain": [
       "array([[-0.        ,  0.        , -0.12778384],\n",
       "       [ 0.        ,  0.12063617,  0.06386621],\n",
       "       [ 0.        , -0.12063617,  0.06386621]])"
      ]
     },
     "execution_count": 7,
     "metadata": {},
     "output_type": "execute_result"
    }
   ],
   "source": [
    "mymolecule.get_forces()"
   ]
  },
  {
   "cell_type": "code",
   "execution_count": null,
   "id": "a92a8f1b-dd34-45b4-ba5e-1603757232cd",
   "metadata": {},
   "outputs": [],
   "source": []
  },
  {
   "cell_type": "code",
   "execution_count": null,
   "id": "52cd447e-8f9a-46ad-b381-14ebabfcb8a9",
   "metadata": {},
   "outputs": [],
   "source": []
  },
  {
   "cell_type": "code",
   "execution_count": null,
   "id": "0191d7ee-5037-43a8-838e-3eea6398b744",
   "metadata": {},
   "outputs": [],
   "source": []
  },
  {
   "cell_type": "code",
   "execution_count": null,
   "id": "97b14d02-e341-4951-94e7-50296271ed2b",
   "metadata": {},
   "outputs": [],
   "source": []
  },
  {
   "cell_type": "code",
   "execution_count": null,
   "id": "7e89c8de-c7b7-4650-8d5c-35d4d5875933",
   "metadata": {},
   "outputs": [],
   "source": []
  }
 ],
 "metadata": {
  "kernelspec": {
   "display_name": "Python 3 (ipykernel)",
   "language": "python",
   "name": "python3"
  },
  "language_info": {
   "codemirror_mode": {
    "name": "ipython",
    "version": 3
   },
   "file_extension": ".py",
   "mimetype": "text/x-python",
   "name": "python",
   "nbconvert_exporter": "python",
   "pygments_lexer": "ipython3",
   "version": "3.12.9"
  }
 },
 "nbformat": 4,
 "nbformat_minor": 5
}
